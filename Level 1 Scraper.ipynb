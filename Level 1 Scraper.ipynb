{
 "cells": [
  {
   "cell_type": "code",
   "execution_count": 1,
   "metadata": {},
   "outputs": [],
   "source": [
    "import requests\n",
    "import numpy as np\n",
    "import pandas as pd\n",
    "from bs4 import BeautifulSoup\n",
    "import time"
   ]
  },
  {
   "cell_type": "code",
   "execution_count": 2,
   "metadata": {},
   "outputs": [
    {
     "data": {
      "text/plain": [
       "<Response [200]>"
      ]
     },
     "execution_count": 2,
     "metadata": {},
     "output_type": "execute_result"
    }
   ],
   "source": [
    "reports_url = 'https://www.gunviolencearchive.org/mass-shooting'\n",
    "headers = {'User-Agent': 'Mozilla/5.0 (Macintosh; Intel Mac OS X 10_11_5) AppleWebKit/537.36 (KHTML, like Gecko) Chrome/50.0.2661.102 Safari/537.36'}\n",
    "reports_page = requests.get(reports_url, headers = headers)\n",
    "reports_page"
   ]
  },
  {
   "cell_type": "code",
   "execution_count": 3,
   "metadata": {},
   "outputs": [],
   "source": [
    "reports_page_soup = BeautifulSoup(reports_page.text, 'html.parser')\n",
    "reports_list = reports_page_soup.find_all(name=\"table\")"
   ]
  },
  {
   "cell_type": "code",
   "execution_count": 4,
   "metadata": {},
   "outputs": [],
   "source": [
    "years = {2014:10, 2015:13 ,2016:15 , 2017:13 , 2018:13 ,2019:14}"
   ]
  },
  {
   "cell_type": "code",
   "execution_count": 5,
   "metadata": {},
   "outputs": [
    {
     "data": {
      "text/plain": [
       "[<table class=\"responsive sticky-enabled\">\n",
       " <thead><tr><th column=\"Base.IncidentID\"><a class=\"active\" href=\"/mass-shooting?sort=asc&amp;order=Incident%20ID\" title=\"sort by Incident ID\">Incident ID</a></th><th class=\"active\" column=\"Base.IncidentDate\"><a class=\"active\" href=\"/mass-shooting?sort=asc&amp;order=Incident%20Date\" title=\"sort by Incident Date\">Incident Date<img alt=\"sort ascending\" height=\"13\" src=\"https://www.gunviolencearchive.org/misc/arrow-asc.png\" title=\"sort ascending\" typeof=\"foaf:Image\" width=\"13\"/></a></th><th column=\"Location.State\"><a class=\"active\" href=\"/mass-shooting?sort=asc&amp;order=State\" title=\"sort by State\">State</a></th><th column=\"Location.CityOrCounty\"><a class=\"active\" href=\"/mass-shooting?sort=asc&amp;order=City%20Or%20County\" title=\"sort by City Or County\">City Or County</a></th><th column=\"Location.Address\"><a class=\"active\" href=\"/mass-shooting?sort=asc&amp;order=Address\" title=\"sort by Address\">Address</a></th><th column=\"Counts.NumberOfParticipantsKilled\"><a class=\"active\" href=\"/mass-shooting?sort=asc&amp;order=%23%20Killed\" title=\"sort by # Killed\"># Killed</a></th><th column=\"Counts.NumberOfParticipantsInjured\"><a class=\"active\" href=\"/mass-shooting?sort=asc&amp;order=%23%20Injured\" title=\"sort by # Injured\"># Injured</a></th><th column=\"Base.IncidentOperations\">Operations</th> </tr></thead>\n",
       " <tbody>\n",
       " <tr class=\"odd\"><td>1540841</td><td>November 3, 2019</td><td>Texas</td><td>Nacogdoches</td><td>Sandyland Cir</td><td>1</td><td>3</td><td><ul class=\"links inline links-new-lines\"><li class=\"0 first\"><a href=\"/incident/1540841\">View Incident</a></li>\n",
       " <li class=\"1 last\"><a href=\"https://www.dailysentinel.com/article_648b1c6e-fe73-11e9-82e1-cfce77f670ea.html\" target=\"_blank\">View Source</a></li>\n",
       " </ul></td> </tr>\n",
       " <tr class=\"even\"><td>1540280</td><td>November 2, 2019</td><td>Louisiana</td><td>Baton Rouge</td><td>137 Taylor St</td><td>0</td><td>4</td><td><ul class=\"links inline links-new-lines\"><li class=\"0 first\"><a href=\"/incident/1540280\">View Incident</a></li>\n",
       " <li class=\"1 last\"><a href=\"http://www.wbrz.com/news/police-investigating-shooting-off-highland-road-near-taylor-street-three-people-injured\" target=\"_blank\">View Source</a></li>\n",
       " </ul></td> </tr>\n",
       " <tr class=\"odd\"><td>1540240</td><td>November 2, 2019</td><td>Michigan</td><td>Detroit</td><td>7000 block of E. Kirby</td><td>1</td><td>4</td><td><ul class=\"links inline links-new-lines\"><li class=\"0 first\"><a href=\"/incident/1540240\">View Incident</a></li>\n",
       " <li class=\"1 last\"><a href=\"https://www.wxyz.com/news/5-people-shot-leaving-1-dead-during-after-party-in-detroit\" target=\"_blank\">View Source</a></li>\n",
       " </ul></td> </tr>\n",
       " <tr class=\"even\"><td>1539572</td><td>November 1, 2019</td><td>Arizona</td><td>Tolleson</td><td>2434 S 86th Ln</td><td>0</td><td>5</td><td><ul class=\"links inline links-new-lines\"><li class=\"0 first\"><a href=\"/incident/1539572\">View Incident</a></li>\n",
       " <li class=\"1 last\"><a href=\"https://www.abc15.com/news/region-phoenix-metro/west-phoenix/multiple-people-shot-near-83rd-avenue-and-lower-buckeye-road\" target=\"_blank\">View Source</a></li>\n",
       " </ul></td> </tr>\n",
       " <tr class=\"odd\"><td>1539557</td><td>November 1, 2019</td><td>Texas</td><td>San Angelo</td><td>1616 S Chadbourne St</td><td>0</td><td>4</td><td><ul class=\"links inline links-new-lines\"><li class=\"0 first\"><a href=\"/incident/1539557\">View Incident</a></li>\n",
       " <li class=\"1 last\"><a href=\"https://www.gosanangelo.com/story/news/crime/2019/11/01/san-angelo-man-arrested-connection-drive-shooting-club/4121836002/\" target=\"_blank\">View Source</a></li>\n",
       " </ul></td> </tr>\n",
       " <tr class=\"even\"><td>1539347</td><td>October 31, 2019</td><td>California</td><td>Orinda</td><td>114 Lucille Way</td><td>5</td><td>3</td><td><ul class=\"links inline links-new-lines\"><li class=\"0 first\"><a href=\"/incident/1539347\">View Incident</a></li>\n",
       " <li class=\"1 last\"><a href=\"https://www.facebook.com/permalink.php?story_fbid=10156429292566561&amp;id=224837426560\" target=\"_blank\">View Source</a></li>\n",
       " </ul></td> </tr>\n",
       " <tr class=\"odd\"><td>1537992</td><td>October 30, 2019</td><td>Pennsylvania</td><td>Philadelphia</td><td>5026 Walton Ave</td><td>4</td><td>0</td><td><ul class=\"links inline links-new-lines\"><li class=\"0 first\"><a href=\"/incident/1537992\">View Incident</a></li>\n",
       " <li class=\"1 last\"><a href=\"https://philadelphia.cbslocal.com/2019/10/30/neighbors-janet-woodson-among-four-family-members-killed-inside-west-philadelphia-home/\" target=\"_blank\">View Source</a></li>\n",
       " </ul></td> </tr>\n",
       " <tr class=\"even\"><td>1537672</td><td>October 29, 2019</td><td>California</td><td>Long Beach</td><td>2709 E 7th St</td><td>3</td><td>9</td><td><ul class=\"links inline links-new-lines\"><li class=\"0 first\"><a href=\"/incident/1537672\">View Incident</a></li>\n",
       " <li class=\"1 last\"><a href=\"https://lbpost.com/news/crime/identify-name-rose-park-mass-shooting-long-beach-halloween\" target=\"_blank\">View Source</a></li>\n",
       " </ul></td> </tr>\n",
       " <tr class=\"odd\"><td>1537044</td><td>October 29, 2019</td><td>Maryland</td><td>Baltimore</td><td>4700 block of Liberty Heights Ave</td><td>1</td><td>3</td><td><ul class=\"links inline links-new-lines\"><li class=\"0 first\"><a href=\"/incident/1537044\">View Incident</a></li>\n",
       " <li class=\"1 last\"><a href=\"https://baltimore.cbslocal.com/2019/10/29/northwest-baltimore-shootings-latest/\" target=\"_blank\">View Source</a></li>\n",
       " </ul></td> </tr>\n",
       " <tr class=\"even\"><td>1536787</td><td>October 28, 2019</td><td>Maryland</td><td>Baltimore</td><td>4160 Pimlico Rd</td><td>1</td><td>3</td><td><ul class=\"links inline links-new-lines\"><li class=\"0 first\"><a href=\"/incident/1536787\">View Incident</a></li>\n",
       " <li class=\"1 last\"><a href=\"https://www.wbaltv.com/article/2-dead-3-others-injured-after-shooting-in-northwest-baltimore-police-say/29616289\" target=\"_blank\">View Source</a></li>\n",
       " </ul></td> </tr>\n",
       " <tr class=\"odd\"><td>1536706</td><td>October 27, 2019</td><td>Michigan</td><td>Detroit</td><td>East Outer Dr and Helen St</td><td>0</td><td>4</td><td><ul class=\"links inline links-new-lines\"><li class=\"0 first\"><a href=\"/incident/1536706\">View Incident</a></li>\n",
       " <li class=\"1 last\"><a href=\"https://www.clickondetroit.com/news/crime/4-men-shot-in-drive-by-on-detroit-s-east-side\" target=\"_blank\">View Source</a></li>\n",
       " </ul></td> </tr>\n",
       " <tr class=\"even\"><td>1535629</td><td>October 27, 2019</td><td>Michigan</td><td>Lansing</td><td>Balfour Dr and W Miller Rd</td><td>1</td><td>4</td><td><ul class=\"links inline links-new-lines\"><li class=\"0 first\"><a href=\"/incident/1535629\">View Incident</a></li>\n",
       " <li class=\"1 last\"><a href=\"https://www.detroitnews.com/story/news/local/michigan/2019/10/28/shooting-lansing-party-death/40452209/\" target=\"_blank\">View Source</a></li>\n",
       " </ul></td> </tr>\n",
       " <tr class=\"odd\"><td>1535478</td><td>October 26, 2019</td><td>Texas</td><td>Greenville</td><td>2275 US-380</td><td>2</td><td>6</td><td><ul class=\"links inline links-new-lines\"><li class=\"0 first\"><a href=\"/incident/1535478\">View Incident</a></li>\n",
       " <li class=\"1 last\"><a href=\"https://www.nbcdfw.com/news/local/First-Officers-on-Scene-of-Deadly-Greenville-Shooting-Took-Matters-into-their-Own-Hands-563959431.html\" target=\"_blank\">View Source</a></li>\n",
       " </ul></td> </tr>\n",
       " <tr class=\"even\"><td>1534704</td><td>October 24, 2019</td><td>Oklahoma</td><td>Oklahoma City</td><td>1900 block of NW 12th St</td><td>2</td><td>2</td><td><ul class=\"links inline links-new-lines\"><li class=\"0 first\"><a href=\"/incident/1534704\">View Incident</a></li>\n",
       " <li class=\"1 last\"><a href=\"https://kfor.com/2019/10/25/one-dead-in-nw-oklahoma-city-quadruple-shooting/\" target=\"_blank\">View Source</a></li>\n",
       " </ul></td> </tr>\n",
       " <tr class=\"odd\"><td>1533166</td><td>October 22, 2019</td><td>Oklahoma</td><td>Oklahoma City (Midwest City)</td><td>7020 E Green Ave</td><td>1</td><td>3</td><td><ul class=\"links inline links-new-lines\"><li class=\"0 first\"><a href=\"/incident/1533166\">View Incident</a></li>\n",
       " <li class=\"1 last\"><a href=\"https://okcfox.com/news/local/4-people-shot-at-midwest-city-apartment-complex\" target=\"_blank\">View Source</a></li>\n",
       " </ul></td> </tr>\n",
       " <tr class=\"even\"><td>1531326</td><td>October 21, 2019</td><td>South Carolina</td><td>Sumter</td><td>29 Wesmark Blvd</td><td>0</td><td>4</td><td><ul class=\"links inline links-new-lines\"><li class=\"0 first\"><a href=\"/incident/1531326\">View Incident</a></li>\n",
       " <li class=\"1 last\"><a href=\"https://www.wltx.com/article/news/local/four-people-shot-in-sumter-south-carolina/101-cb5ddbf1-0d32-46a5-a92f-1a0c0709d24e\" target=\"_blank\">View Source</a></li>\n",
       " </ul></td> </tr>\n",
       " <tr class=\"odd\"><td>1530965</td><td>October 20, 2019</td><td>Texas</td><td>Port Arthur</td><td>1100 block of Vicksburg Ave</td><td>1</td><td>3</td><td><ul class=\"links inline links-new-lines\"><li class=\"0 first\"><a href=\"/incident/1530965\">View Incident</a></li>\n",
       " <li class=\"1 last\"><a href=\"https://www.12newsnow.com/article/news/crime/one-dead-multiple-victims-in-overnight-shooting-in-port-arthur/502-30863973-993c-4d83-8be3-bfc6d1a525c7\" target=\"_blank\">View Source</a></li>\n",
       " </ul></td> </tr>\n",
       " <tr class=\"even\"><td>1530276</td><td>October 19, 2019</td><td>Texas</td><td>El Paso</td><td>3812 Truman Ave</td><td>1</td><td>3</td><td><ul class=\"links inline links-new-lines\"><li class=\"0 first\"><a href=\"/incident/1530276\">View Incident</a></li>\n",
       " <li class=\"1 last\"><a href=\"https://www.ktsm.com/crime/man-killed-in-weekend-house-party-shooting-was-a-fort-bliss-soldier/\" target=\"_blank\">View Source</a></li>\n",
       " </ul></td> </tr>\n",
       " <tr class=\"odd\"><td>1530407</td><td>October 19, 2019</td><td>Pennsylvania</td><td>Duquesne</td><td>600 block of Priscilla Ave</td><td>0</td><td>4</td><td><ul class=\"links inline links-new-lines\"><li class=\"0 first\"><a href=\"/incident/1530407\">View Incident</a></li>\n",
       " <li class=\"1 last\"><a href=\"https://www.wtae.com/article/police-searching-for-two-suspects-after-man-shot-outside-mcdonalds-in-downtown-pittsburgh/29521376\" target=\"_blank\">View Source</a></li>\n",
       " </ul></td> </tr>\n",
       " <tr class=\"even\"><td>1527528</td><td>October 15, 2019</td><td>Ohio</td><td>Columbus</td><td>1600 block of Manchester Ave</td><td>0</td><td>4</td><td><ul class=\"links inline links-new-lines\"><li class=\"0 first\"><a href=\"/incident/1527528\">View Incident</a></li>\n",
       " <li class=\"1 last\"><a href=\"https://www.10tv.com/article/3-teens-one-man-injured-linden-shooting-2019-oct\" target=\"_blank\">View Source</a></li>\n",
       " </ul></td> </tr>\n",
       " <tr class=\"odd\"><td>1525999</td><td>October 13, 2019</td><td>Pennsylvania</td><td>Philadelphia</td><td>W Clearfield St and N 8th St</td><td>0</td><td>6</td><td><ul class=\"links inline links-new-lines\"><li class=\"0 first\"><a href=\"/incident/1525999\">View Incident</a></li>\n",
       " <li class=\"1 last\"><a href=\"https://6abc.com/relatives-of-teens-struck-by-gunfire-in-multiple-shooting-speak-out/5618033/\" target=\"_blank\">View Source</a></li>\n",
       " </ul></td> </tr>\n",
       " <tr class=\"even\"><td>1526952</td><td>October 13, 2019</td><td>Ohio</td><td>Akron</td><td>Main St</td><td>0</td><td>4</td><td><ul class=\"links inline links-new-lines\"><li class=\"0 first\"><a href=\"/incident/1526952\">View Incident</a></li>\n",
       " <li class=\"1 last\"><a href=\"https://www.beaconjournal.com/news/20191014/one-woman-three-men-shot-in-incident-at-firestone-park-bar-in-akron\" target=\"_blank\">View Source</a></li>\n",
       " </ul></td> </tr>\n",
       " <tr class=\"odd\"><td>1525062</td><td>October 12, 2019</td><td>New York</td><td>Brooklyn</td><td>75 Utica Ave</td><td>4</td><td>3</td><td><ul class=\"links inline links-new-lines\"><li class=\"0 first\"><a href=\"/incident/1525062\">View Incident</a></li>\n",
       " <li class=\"1 last\"><a href=\"https://www.nytimes.com/2019/10/13/nyregion/brooklyn-shooting-poker-club.html\" target=\"_blank\">View Source</a></li>\n",
       " </ul></td> </tr>\n",
       " <tr class=\"even\"><td>1525408</td><td>October 12, 2019</td><td>Pennsylvania</td><td>Philadelphia</td><td>700 block of W Russell St</td><td>1</td><td>3</td><td><ul class=\"links inline links-new-lines\"><li class=\"0 first\"><a href=\"/incident/1525408\">View Incident</a></li>\n",
       " <li class=\"1 last\"><a href=\"https://philadelphia.cbslocal.com/2019/10/12/police-north-philadelphia-gun-violence-deadly-shooting/\" target=\"_blank\">View Source</a></li>\n",
       " </ul></td> </tr>\n",
       " <tr class=\"odd\"><td>1525476</td><td>October 12, 2019</td><td>Illinois</td><td>Chicago</td><td>6733 W Irving Park Rd</td><td>5</td><td>0</td><td><ul class=\"links inline links-new-lines\"><li class=\"0 first\"><a href=\"/incident/1525476\">View Incident</a></li>\n",
       " <li class=\"1 last\"><a href=\"https://chicago.suntimes.com/crime/2019/10/14/20913488/krysztof-marek-murder-charges-dunning-apartment-shooting\" target=\"_blank\">View Source</a></li>\n",
       " </ul></td> </tr>\n",
       " </tbody>\n",
       " </table>]"
      ]
     },
     "execution_count": 5,
     "metadata": {},
     "output_type": "execute_result"
    }
   ],
   "source": [
    "reports_list[:5]"
   ]
  },
  {
   "cell_type": "code",
   "execution_count": null,
   "metadata": {},
   "outputs": [],
   "source": []
  },
  {
   "cell_type": "code",
   "execution_count": 6,
   "metadata": {},
   "outputs": [],
   "source": [
    "def level_one_scraper(url):\n",
    "    headers = {'User-Agent': 'Mozilla/5.0 (Macintosh; Intel Mac OS X 10_11_5) AppleWebKit/537.36 (KHTML, like Gecko) Chrome/50.0.2661.102 Safari/537.36'}\n",
    "    reports_page = requests.get(url, headers = headers)\n",
    "    return pd.read_html(reports_page.text)"
   ]
  },
  {
   "cell_type": "code",
   "execution_count": 7,
   "metadata": {},
   "outputs": [],
   "source": [
    "def page0_scraper(df, year):\n",
    "    url = 'https://www.gunviolencearchive.org/mass-shooting?year=' + str(year)\n",
    "    df1 = level_one_scraper(url)\n",
    "    df = df.append(df1[0], True)\n",
    "    return df\n",
    "\n",
    "def other_page_scraper(df, year, pages):\n",
    "    for i in range(1, pages + 1):\n",
    "        url = 'https://www.gunviolencearchive.org/mass-shooting?page='+ str(i)+'&year=' + str(year)\n",
    "        df1 = level_one_scraper(url)\n",
    "        df = df.append(df1[0], True)\n",
    "        time.sleep(0.5)\n",
    "    return df"
   ]
  },
  {
   "cell_type": "code",
   "execution_count": 8,
   "metadata": {},
   "outputs": [],
   "source": [
    "def scraper():\n",
    "    df = pd.DataFrame()\n",
    "    for year, pages in years.items():\n",
    "        df = page0_scraper(df, year)\n",
    "        df = other_page_scraper(df, year, pages)\n",
    "    return df"
   ]
  },
  {
   "cell_type": "code",
   "execution_count": 9,
   "metadata": {},
   "outputs": [],
   "source": [
    "df = scraper()"
   ]
  },
  {
   "cell_type": "code",
   "execution_count": null,
   "metadata": {},
   "outputs": [],
   "source": []
  }
 ],
 "metadata": {
  "kernelspec": {
   "display_name": "Python 3",
   "language": "python",
   "name": "python3"
  },
  "language_info": {
   "codemirror_mode": {
    "name": "ipython",
    "version": 3
   },
   "file_extension": ".py",
   "mimetype": "text/x-python",
   "name": "python",
   "nbconvert_exporter": "python",
   "pygments_lexer": "ipython3",
   "version": "3.7.3"
  }
 },
 "nbformat": 4,
 "nbformat_minor": 2
}

{
 "cells": [
  {
   "cell_type": "code",
   "execution_count": 1,
   "metadata": {},
   "outputs": [],
   "source": [
    "import requests\n",
    "import numpy as np\n",
    "import pandas as pd\n",
    "from bs4 import BeautifulSoup\n",
    "import time"
   ]
  },
  {
   "cell_type": "code",
   "execution_count": 253,
   "metadata": {},
   "outputs": [],
   "source": [
    "import cfscrape\n",
    "scraper = cfscrape.create_scraper()"
   ]
  },
  {
   "cell_type": "code",
   "execution_count": 271,
   "metadata": {},
   "outputs": [
    {
     "data": {
      "text/plain": [
       "<Response [200]>"
      ]
     },
     "execution_count": 271,
     "metadata": {},
     "output_type": "execute_result"
    }
   ],
   "source": [
    "reports_page = scraper.get(\"https://www.gunviolencearchive.org/incident/756801\")\n",
    "reports_page"
   ]
  },
  {
   "cell_type": "code",
   "execution_count": 272,
   "metadata": {},
   "outputs": [],
   "source": [
    "reports_page_soup = BeautifulSoup(reports_page.text, 'html.parser')\n",
    "reports_list = reports_page_soup.find_all(name=\"div\", class_=\"region\")"
   ]
  },
  {
   "cell_type": "code",
   "execution_count": 273,
   "metadata": {},
   "outputs": [],
   "source": [
    "reports_list = reports_list[2].find_all(name=\"div\")"
   ]
  },
  {
   "cell_type": "code",
   "execution_count": 274,
   "metadata": {},
   "outputs": [
    {
     "data": {
      "text/plain": [
       "8"
      ]
     },
     "execution_count": 274,
     "metadata": {},
     "output_type": "execute_result"
    }
   ],
   "source": [
    "len(reports_list)"
   ]
  },
  {
   "cell_type": "code",
   "execution_count": 275,
   "metadata": {},
   "outputs": [],
   "source": [
    "def location_scrape(report):\n",
    "    location = report.find_all(name=\"span\")\n",
    "    geo = location[-1].text\n",
    "    print(geo)"
   ]
  },
  {
   "cell_type": "code",
   "execution_count": 276,
   "metadata": {},
   "outputs": [],
   "source": [
    "def participant_scrape(report):\n",
    "    participants = report.find_all(name=\"ul\")\n",
    "    participant_list = []\n",
    "    for participant in participants:\n",
    "        li = participant.find_all(name=\"li\")    \n",
    "        participant_list.append(dict(s.text.split(':', 1) if ':' in s.text else [s.text, None] for s in li) )\n",
    "    participant_table = pd.DataFrame(participant_list)\n",
    "    print(participant_table)"
   ]
  },
  {
   "cell_type": "code",
   "execution_count": 277,
   "metadata": {},
   "outputs": [],
   "source": [
    "def incident_scrape(report):\n",
    "    incident_list = [r.text for r in report.find_all(name='li')]\n",
    "    print(incident_list)"
   ]
  },
  {
   "cell_type": "code",
   "execution_count": 278,
   "metadata": {},
   "outputs": [],
   "source": [
    "def guns_scrape(report):\n",
    "    gun_info = []\n",
    "    print(report.find(name = \"p\").text)\n",
    "    li = report.find_all(name=\"li\")    \n",
    "    gun_info.append(dict(s.text.split(':', 1) if ':' in s.text else [s.text, None] for s in li) )\n",
    "    print(gun_info)"
   ]
  },
  {
   "cell_type": "code",
   "execution_count": 279,
   "metadata": {},
   "outputs": [],
   "source": [
    "def district_scrape(report):\n",
    "    li = report.text.split(\"\\n\")\n",
    "    distict_info = []\n",
    "    distict_info.append(dict(s.split(':', 1) for s in li if ':' in s) )\n",
    "    print(distict_info)"
   ]
  },
  {
   "cell_type": "code",
   "execution_count": 280,
   "metadata": {},
   "outputs": [
    {
     "name": "stdout",
     "output_type": "stream",
     "text": [
      "Geolocation: 33.5741, -84.3716\n",
      "    Age Group    Status     Type\n",
      "0   Adult 18+   Injured   Victim\n",
      "1   Adult 18+   Injured   Victim\n",
      "2   Adult 18+   Injured   Victim\n",
      "3   Adult 18+   Injured   Victim\n",
      "4   Adult 18+   Injured   Victim\n",
      "5   Adult 18+   Injured   Victim\n",
      "['Shot - Wounded/Injured', 'Mass Shooting (4+ victims injured or killed excluding the subject/suspect/perpetrator, one location)', 'Bar/club incident - in or around establishment']\n",
      "1 gun involved.\n",
      "[{'Type': ' Unknown', 'Stolen': ' Unknown'}]\n",
      "[{'Congressional District': ' 13', 'State Senate District': ' 34', 'State House District': ' 77'}]\n"
     ]
    }
   ],
   "source": [
    "function = {\n",
    "    \"Location\": location_scrape,\n",
    "    \"Participants\": participant_scrape,\n",
    "    \"Incident Characteristics\": incident_scrape,\n",
    "    \"Guns Involved\": guns_scrape,\n",
    "    \"District\": district_scrape\n",
    "    \n",
    "}\n",
    "for i in range(1, len(reports_list)):\n",
    "    try:\n",
    "        function[reports_list[i].find(name = \"h2\").text](reports_list[i])\n",
    "    except:\n",
    "        continue\n",
    "    "
   ]
  },
  {
   "cell_type": "code",
   "execution_count": null,
   "metadata": {},
   "outputs": [],
   "source": []
  }
 ],
 "metadata": {
  "kernelspec": {
   "display_name": "Python 3",
   "language": "python",
   "name": "python3"
  },
  "language_info": {
   "codemirror_mode": {
    "name": "ipython",
    "version": 3
   },
   "file_extension": ".py",
   "mimetype": "text/x-python",
   "name": "python",
   "nbconvert_exporter": "python",
   "pygments_lexer": "ipython3",
   "version": "3.7.3"
  }
 },
 "nbformat": 4,
 "nbformat_minor": 2
}
